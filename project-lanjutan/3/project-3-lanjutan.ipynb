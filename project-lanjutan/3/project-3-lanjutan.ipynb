{
 "cells": [
  {
   "cell_type": "code",
   "execution_count": 1,
   "metadata": {},
   "outputs": [],
   "source": [
    "import pandas as pd"
   ]
  },
  {
   "cell_type": "code",
   "execution_count": 2,
   "metadata": {},
   "outputs": [
    {
     "name": "stdout",
     "output_type": "stream",
     "text": [
      "Rows : 34660\n",
      "Columns : 21\n",
      "Unique Columns : ['id', 'name', 'asins', 'brand', 'categories', 'keys', 'manufacturer', 'reviews.date', 'reviews.dateAdded', 'reviews.dateSeen', 'reviews.didPurchase', 'reviews.doRecommend', 'reviews.id', 'reviews.numHelpful', 'reviews.rating', 'reviews.sourceURLs', 'reviews.text', 'reviews.title', 'reviews.userCity', 'reviews.userProvince', 'reviews.username']\n",
      "Missing Values : 157230\n"
     ]
    }
   ],
   "source": [
    "# source dataset https://www.kaggle.com/datasets/datafiniti/consumer-reviews-of-amazon-products\n",
    "path = \"1429_1.csv\"\n",
    "df = pd.read_csv(path, low_memory=False)\n",
    "\n",
    "print('Rows :', df.shape[0])\n",
    "print('Columns :', df.shape[1])\n",
    "print('Unique Columns :', df.columns.tolist())\n",
    "print('Missing Values :', df.isnull().sum().values.sum())"
   ]
  },
  {
   "cell_type": "code",
   "execution_count": 3,
   "metadata": {},
   "outputs": [],
   "source": [
    "# Ambil kolom yang hanya dibutuhkan\n",
    "df_new = df[['id','name','reviews.rating','reviews.text','reviews.title','reviews.username']]"
   ]
  },
  {
   "cell_type": "code",
   "execution_count": 4,
   "metadata": {},
   "outputs": [
    {
     "name": "stderr",
     "output_type": "stream",
     "text": [
      "C:\\Users\\jmd\\AppData\\Local\\Temp\\ipykernel_38304\\452848283.py:1: SettingWithCopyWarning: \n",
      "A value is trying to be set on a copy of a slice from a DataFrame\n",
      "\n",
      "See the caveats in the documentation: https://pandas.pydata.org/pandas-docs/stable/user_guide/indexing.html#returning-a-view-versus-a-copy\n",
      "  df_new.dropna(inplace=True)\n"
     ]
    },
    {
     "data": {
      "text/plain": [
       "id                  0\n",
       "name                0\n",
       "reviews.rating      0\n",
       "reviews.text        0\n",
       "reviews.title       0\n",
       "reviews.username    0\n",
       "dtype: int64"
      ]
     },
     "execution_count": 4,
     "metadata": {},
     "output_type": "execute_result"
    }
   ],
   "source": [
    "df_new.dropna(inplace=True)\n",
    "df_new.isnull().sum()"
   ]
  },
  {
   "cell_type": "code",
   "execution_count": 5,
   "metadata": {},
   "outputs": [
    {
     "data": {
      "text/html": [
       "<div>\n",
       "<style scoped>\n",
       "    .dataframe tbody tr th:only-of-type {\n",
       "        vertical-align: middle;\n",
       "    }\n",
       "\n",
       "    .dataframe tbody tr th {\n",
       "        vertical-align: top;\n",
       "    }\n",
       "\n",
       "    .dataframe thead th {\n",
       "        text-align: right;\n",
       "    }\n",
       "</style>\n",
       "<table border=\"1\" class=\"dataframe\">\n",
       "  <thead>\n",
       "    <tr style=\"text-align: right;\">\n",
       "      <th></th>\n",
       "      <th>id</th>\n",
       "      <th>name</th>\n",
       "      <th>reviews.rating</th>\n",
       "      <th>reviews.text</th>\n",
       "      <th>reviews.title</th>\n",
       "      <th>reviews.username</th>\n",
       "    </tr>\n",
       "  </thead>\n",
       "  <tbody>\n",
       "    <tr>\n",
       "      <th>0</th>\n",
       "      <td>AVqkIhwDv8e3D1O-lebb</td>\n",
       "      <td>All-New Fire HD 8 Tablet, 8 HD Display, Wi-Fi,...</td>\n",
       "      <td>5.0</td>\n",
       "      <td>This product so far has not disappointed. My c...</td>\n",
       "      <td>Kindle</td>\n",
       "      <td>Adapter</td>\n",
       "    </tr>\n",
       "    <tr>\n",
       "      <th>1</th>\n",
       "      <td>AVqkIhwDv8e3D1O-lebb</td>\n",
       "      <td>All-New Fire HD 8 Tablet, 8 HD Display, Wi-Fi,...</td>\n",
       "      <td>5.0</td>\n",
       "      <td>great for beginner or experienced person. Boug...</td>\n",
       "      <td>very fast</td>\n",
       "      <td>truman</td>\n",
       "    </tr>\n",
       "    <tr>\n",
       "      <th>2</th>\n",
       "      <td>AVqkIhwDv8e3D1O-lebb</td>\n",
       "      <td>All-New Fire HD 8 Tablet, 8 HD Display, Wi-Fi,...</td>\n",
       "      <td>5.0</td>\n",
       "      <td>Inexpensive tablet for him to use and learn on...</td>\n",
       "      <td>Beginner tablet for our 9 year old son.</td>\n",
       "      <td>DaveZ</td>\n",
       "    </tr>\n",
       "    <tr>\n",
       "      <th>3</th>\n",
       "      <td>AVqkIhwDv8e3D1O-lebb</td>\n",
       "      <td>All-New Fire HD 8 Tablet, 8 HD Display, Wi-Fi,...</td>\n",
       "      <td>4.0</td>\n",
       "      <td>I've had my Fire HD 8 two weeks now and I love...</td>\n",
       "      <td>Good!!!</td>\n",
       "      <td>Shacks</td>\n",
       "    </tr>\n",
       "    <tr>\n",
       "      <th>4</th>\n",
       "      <td>AVqkIhwDv8e3D1O-lebb</td>\n",
       "      <td>All-New Fire HD 8 Tablet, 8 HD Display, Wi-Fi,...</td>\n",
       "      <td>5.0</td>\n",
       "      <td>I bought this for my grand daughter when she c...</td>\n",
       "      <td>Fantastic Tablet for kids</td>\n",
       "      <td>explore42</td>\n",
       "    </tr>\n",
       "  </tbody>\n",
       "</table>\n",
       "</div>"
      ],
      "text/plain": [
       "                     id                                               name  \\\n",
       "0  AVqkIhwDv8e3D1O-lebb  All-New Fire HD 8 Tablet, 8 HD Display, Wi-Fi,...   \n",
       "1  AVqkIhwDv8e3D1O-lebb  All-New Fire HD 8 Tablet, 8 HD Display, Wi-Fi,...   \n",
       "2  AVqkIhwDv8e3D1O-lebb  All-New Fire HD 8 Tablet, 8 HD Display, Wi-Fi,...   \n",
       "3  AVqkIhwDv8e3D1O-lebb  All-New Fire HD 8 Tablet, 8 HD Display, Wi-Fi,...   \n",
       "4  AVqkIhwDv8e3D1O-lebb  All-New Fire HD 8 Tablet, 8 HD Display, Wi-Fi,...   \n",
       "\n",
       "   reviews.rating                                       reviews.text  \\\n",
       "0             5.0  This product so far has not disappointed. My c...   \n",
       "1             5.0  great for beginner or experienced person. Boug...   \n",
       "2             5.0  Inexpensive tablet for him to use and learn on...   \n",
       "3             4.0  I've had my Fire HD 8 two weeks now and I love...   \n",
       "4             5.0  I bought this for my grand daughter when she c...   \n",
       "\n",
       "                             reviews.title reviews.username  \n",
       "0                                   Kindle          Adapter  \n",
       "1                                very fast           truman  \n",
       "2  Beginner tablet for our 9 year old son.            DaveZ  \n",
       "3                                  Good!!!           Shacks  \n",
       "4                Fantastic Tablet for kids        explore42  "
      ]
     },
     "execution_count": 5,
     "metadata": {},
     "output_type": "execute_result"
    }
   ],
   "source": [
    "df_new.head()"
   ]
  },
  {
   "cell_type": "code",
   "execution_count": 6,
   "metadata": {},
   "outputs": [
    {
     "name": "stdout",
     "output_type": "stream",
     "text": [
      "Rows : 34660\n",
      "Columns : 21\n"
     ]
    }
   ],
   "source": [
    "## cek jumlah row setelah dilakukan penghapusan null/kosong\n",
    "print('Rows :', df.shape[0])\n",
    "print('Columns :', df.shape[1])"
   ]
  },
  {
   "cell_type": "markdown",
   "metadata": {},
   "source": [
    "## Hapus karakter yang tidak dibutuhkan"
   ]
  },
  {
   "cell_type": "code",
   "execution_count": 7,
   "metadata": {},
   "outputs": [
    {
     "name": "stderr",
     "output_type": "stream",
     "text": [
      "<>:6: SyntaxWarning: invalid escape sequence '\\['\n",
      "<>:8: SyntaxWarning: invalid escape sequence '\\S'\n",
      "<>:12: SyntaxWarning: invalid escape sequence '\\w'\n",
      "<>:6: SyntaxWarning: invalid escape sequence '\\['\n",
      "<>:8: SyntaxWarning: invalid escape sequence '\\S'\n",
      "<>:12: SyntaxWarning: invalid escape sequence '\\w'\n",
      "C:\\Users\\jmd\\AppData\\Local\\Temp\\ipykernel_38304\\2577206284.py:6: SyntaxWarning: invalid escape sequence '\\['\n",
      "  text = re.sub(\"\\[.*?\\]\", \"\", text)\n",
      "C:\\Users\\jmd\\AppData\\Local\\Temp\\ipykernel_38304\\2577206284.py:8: SyntaxWarning: invalid escape sequence '\\S'\n",
      "  text = re.sub('https?://\\S+|www\\.\\S+', '', text)\n",
      "C:\\Users\\jmd\\AppData\\Local\\Temp\\ipykernel_38304\\2577206284.py:12: SyntaxWarning: invalid escape sequence '\\w'\n",
      "  text = re.sub('\\w*\\d\\w*', '', text)\n"
     ]
    }
   ],
   "source": [
    "import re\n",
    "import string\n",
    "\n",
    "def hapus_karakter(text): #membuat function dg nama hapus_karakter\n",
    "  text = text.lower()\n",
    "  text = re.sub(\"\\[.*?\\]\", \"\", text)\n",
    "  text = re.sub(\"\\\\W\", ' ', text)\n",
    "  text = re.sub('https?://\\S+|www\\.\\S+', '', text)\n",
    "  text = re.sub('<.*?.+>', '', text)\n",
    "  text = re.sub('[%s]' % re.escape(string.punctuation),\"\", text)\n",
    "  text = re.sub('\\n', '', text)\n",
    "  text = re.sub('\\w*\\d\\w*', '', text)\n",
    "  return text\n",
    "  #hal diatas untuk mempermudah dalam train data dengan memperbaiki dan menghapus karakter khusus"
   ]
  },
  {
   "cell_type": "code",
   "execution_count": 8,
   "metadata": {},
   "outputs": [
    {
     "name": "stderr",
     "output_type": "stream",
     "text": [
      "C:\\Users\\jmd\\AppData\\Local\\Temp\\ipykernel_38304\\1085202184.py:2: SettingWithCopyWarning: \n",
      "A value is trying to be set on a copy of a slice from a DataFrame.\n",
      "Try using .loc[row_indexer,col_indexer] = value instead\n",
      "\n",
      "See the caveats in the documentation: https://pandas.pydata.org/pandas-docs/stable/user_guide/indexing.html#returning-a-view-versus-a-copy\n",
      "  df_new['name'] = df_new['name'].apply(hapus_karakter)\n",
      "C:\\Users\\jmd\\AppData\\Local\\Temp\\ipykernel_38304\\1085202184.py:3: SettingWithCopyWarning: \n",
      "A value is trying to be set on a copy of a slice from a DataFrame.\n",
      "Try using .loc[row_indexer,col_indexer] = value instead\n",
      "\n",
      "See the caveats in the documentation: https://pandas.pydata.org/pandas-docs/stable/user_guide/indexing.html#returning-a-view-versus-a-copy\n",
      "  df_new['reviews.text'] = df_new['reviews.text'].apply(hapus_karakter)\n",
      "C:\\Users\\jmd\\AppData\\Local\\Temp\\ipykernel_38304\\1085202184.py:4: SettingWithCopyWarning: \n",
      "A value is trying to be set on a copy of a slice from a DataFrame.\n",
      "Try using .loc[row_indexer,col_indexer] = value instead\n",
      "\n",
      "See the caveats in the documentation: https://pandas.pydata.org/pandas-docs/stable/user_guide/indexing.html#returning-a-view-versus-a-copy\n",
      "  df_new['reviews.title'] = df_new['reviews.title'].apply(hapus_karakter)\n"
     ]
    },
    {
     "data": {
      "text/html": [
       "<div>\n",
       "<style scoped>\n",
       "    .dataframe tbody tr th:only-of-type {\n",
       "        vertical-align: middle;\n",
       "    }\n",
       "\n",
       "    .dataframe tbody tr th {\n",
       "        vertical-align: top;\n",
       "    }\n",
       "\n",
       "    .dataframe thead th {\n",
       "        text-align: right;\n",
       "    }\n",
       "</style>\n",
       "<table border=\"1\" class=\"dataframe\">\n",
       "  <thead>\n",
       "    <tr style=\"text-align: right;\">\n",
       "      <th></th>\n",
       "      <th>id</th>\n",
       "      <th>name</th>\n",
       "      <th>reviews.rating</th>\n",
       "      <th>reviews.text</th>\n",
       "      <th>reviews.title</th>\n",
       "      <th>reviews.username</th>\n",
       "    </tr>\n",
       "  </thead>\n",
       "  <tbody>\n",
       "    <tr>\n",
       "      <th>0</th>\n",
       "      <td>AVqkIhwDv8e3D1O-lebb</td>\n",
       "      <td>all new fire hd  tablet   hd display  wi fi   ...</td>\n",
       "      <td>5.0</td>\n",
       "      <td>this product so far has not disappointed  my c...</td>\n",
       "      <td>kindle</td>\n",
       "      <td>Adapter</td>\n",
       "    </tr>\n",
       "    <tr>\n",
       "      <th>1</th>\n",
       "      <td>AVqkIhwDv8e3D1O-lebb</td>\n",
       "      <td>all new fire hd  tablet   hd display  wi fi   ...</td>\n",
       "      <td>5.0</td>\n",
       "      <td>great for beginner or experienced person  boug...</td>\n",
       "      <td>very fast</td>\n",
       "      <td>truman</td>\n",
       "    </tr>\n",
       "    <tr>\n",
       "      <th>2</th>\n",
       "      <td>AVqkIhwDv8e3D1O-lebb</td>\n",
       "      <td>all new fire hd  tablet   hd display  wi fi   ...</td>\n",
       "      <td>5.0</td>\n",
       "      <td>inexpensive tablet for him to use and learn on...</td>\n",
       "      <td>beginner tablet for our  year old son</td>\n",
       "      <td>DaveZ</td>\n",
       "    </tr>\n",
       "    <tr>\n",
       "      <th>3</th>\n",
       "      <td>AVqkIhwDv8e3D1O-lebb</td>\n",
       "      <td>all new fire hd  tablet   hd display  wi fi   ...</td>\n",
       "      <td>4.0</td>\n",
       "      <td>i ve had my fire hd  two weeks now and i love ...</td>\n",
       "      <td>good</td>\n",
       "      <td>Shacks</td>\n",
       "    </tr>\n",
       "    <tr>\n",
       "      <th>4</th>\n",
       "      <td>AVqkIhwDv8e3D1O-lebb</td>\n",
       "      <td>all new fire hd  tablet   hd display  wi fi   ...</td>\n",
       "      <td>5.0</td>\n",
       "      <td>i bought this for my grand daughter when she c...</td>\n",
       "      <td>fantastic tablet for kids</td>\n",
       "      <td>explore42</td>\n",
       "    </tr>\n",
       "  </tbody>\n",
       "</table>\n",
       "</div>"
      ],
      "text/plain": [
       "                     id                                               name  \\\n",
       "0  AVqkIhwDv8e3D1O-lebb  all new fire hd  tablet   hd display  wi fi   ...   \n",
       "1  AVqkIhwDv8e3D1O-lebb  all new fire hd  tablet   hd display  wi fi   ...   \n",
       "2  AVqkIhwDv8e3D1O-lebb  all new fire hd  tablet   hd display  wi fi   ...   \n",
       "3  AVqkIhwDv8e3D1O-lebb  all new fire hd  tablet   hd display  wi fi   ...   \n",
       "4  AVqkIhwDv8e3D1O-lebb  all new fire hd  tablet   hd display  wi fi   ...   \n",
       "\n",
       "   reviews.rating                                       reviews.text  \\\n",
       "0             5.0  this product so far has not disappointed  my c...   \n",
       "1             5.0  great for beginner or experienced person  boug...   \n",
       "2             5.0  inexpensive tablet for him to use and learn on...   \n",
       "3             4.0  i ve had my fire hd  two weeks now and i love ...   \n",
       "4             5.0  i bought this for my grand daughter when she c...   \n",
       "\n",
       "                            reviews.title reviews.username  \n",
       "0                                  kindle          Adapter  \n",
       "1                               very fast           truman  \n",
       "2  beginner tablet for our  year old son             DaveZ  \n",
       "3                                 good              Shacks  \n",
       "4               fantastic tablet for kids        explore42  "
      ]
     },
     "execution_count": 8,
     "metadata": {},
     "output_type": "execute_result"
    }
   ],
   "source": [
    "#untuk apply sintax hapus karakter pada kolom Title dan Full Text\n",
    "df_new['name'] = df_new['name'].apply(hapus_karakter)\n",
    "df_new['reviews.text'] = df_new['reviews.text'].apply(hapus_karakter)\n",
    "df_new['reviews.title'] = df_new['reviews.title'].apply(hapus_karakter)\n",
    "df_new.head()"
   ]
  },
  {
   "cell_type": "code",
   "execution_count": 9,
   "metadata": {},
   "outputs": [],
   "source": [
    "#karena pasti ada tag yg pasti sama maka perlu lakukan grouping\n",
    "dataFileGrouped = df_new.groupby('id')[['name','reviews.title', 'reviews.text']].agg(list)\n",
    "#tag adalah kolom yg mau dgrup, supaya hanya tampil title dan text\n",
    "# function agregat digunakan untuk jk telah digrup by maka group tsb akan dijadikan listnya\n",
    "dataFileGrouped = dataFileGrouped.reset_index()\n",
    "# dataFileGrouped.head()"
   ]
  },
  {
   "cell_type": "code",
   "execution_count": 10,
   "metadata": {},
   "outputs": [
    {
     "name": "stderr",
     "output_type": "stream",
     "text": [
      "C:\\Users\\jmd\\AppData\\Local\\Temp\\ipykernel_38304\\3580721974.py:19: SettingWithCopyWarning: \n",
      "A value is trying to be set on a copy of a slice from a DataFrame.\n",
      "Try using .loc[row_indexer,col_indexer] = value instead\n",
      "\n",
      "See the caveats in the documentation: https://pandas.pydata.org/pandas-docs/stable/user_guide/indexing.html#returning-a-view-versus-a-copy\n",
      "  productId['sentiment_score'] = productId.apply(lambda x: calculateSentiment(x['reviews.title'], x['reviews.text']), axis=1)#kalkulasi setiap value colomn\n",
      "C:\\Users\\jmd\\AppData\\Local\\Temp\\ipykernel_38304\\3580721974.py:19: SettingWithCopyWarning: \n",
      "A value is trying to be set on a copy of a slice from a DataFrame.\n",
      "Try using .loc[row_indexer,col_indexer] = value instead\n",
      "\n",
      "See the caveats in the documentation: https://pandas.pydata.org/pandas-docs/stable/user_guide/indexing.html#returning-a-view-versus-a-copy\n",
      "  productId['sentiment_score'] = productId.apply(lambda x: calculateSentiment(x['reviews.title'], x['reviews.text']), axis=1)#kalkulasi setiap value colomn\n",
      "C:\\Users\\jmd\\AppData\\Local\\Temp\\ipykernel_38304\\3580721974.py:19: SettingWithCopyWarning: \n",
      "A value is trying to be set on a copy of a slice from a DataFrame.\n",
      "Try using .loc[row_indexer,col_indexer] = value instead\n",
      "\n",
      "See the caveats in the documentation: https://pandas.pydata.org/pandas-docs/stable/user_guide/indexing.html#returning-a-view-versus-a-copy\n",
      "  productId['sentiment_score'] = productId.apply(lambda x: calculateSentiment(x['reviews.title'], x['reviews.text']), axis=1)#kalkulasi setiap value colomn\n",
      "C:\\Users\\jmd\\AppData\\Local\\Temp\\ipykernel_38304\\3580721974.py:19: SettingWithCopyWarning: \n",
      "A value is trying to be set on a copy of a slice from a DataFrame.\n",
      "Try using .loc[row_indexer,col_indexer] = value instead\n",
      "\n",
      "See the caveats in the documentation: https://pandas.pydata.org/pandas-docs/stable/user_guide/indexing.html#returning-a-view-versus-a-copy\n",
      "  productId['sentiment_score'] = productId.apply(lambda x: calculateSentiment(x['reviews.title'], x['reviews.text']), axis=1)#kalkulasi setiap value colomn\n",
      "C:\\Users\\jmd\\AppData\\Local\\Temp\\ipykernel_38304\\3580721974.py:19: SettingWithCopyWarning: \n",
      "A value is trying to be set on a copy of a slice from a DataFrame.\n",
      "Try using .loc[row_indexer,col_indexer] = value instead\n",
      "\n",
      "See the caveats in the documentation: https://pandas.pydata.org/pandas-docs/stable/user_guide/indexing.html#returning-a-view-versus-a-copy\n",
      "  productId['sentiment_score'] = productId.apply(lambda x: calculateSentiment(x['reviews.title'], x['reviews.text']), axis=1)#kalkulasi setiap value colomn\n",
      "C:\\Users\\jmd\\AppData\\Local\\Temp\\ipykernel_38304\\3580721974.py:19: SettingWithCopyWarning: \n",
      "A value is trying to be set on a copy of a slice from a DataFrame.\n",
      "Try using .loc[row_indexer,col_indexer] = value instead\n",
      "\n",
      "See the caveats in the documentation: https://pandas.pydata.org/pandas-docs/stable/user_guide/indexing.html#returning-a-view-versus-a-copy\n",
      "  productId['sentiment_score'] = productId.apply(lambda x: calculateSentiment(x['reviews.title'], x['reviews.text']), axis=1)#kalkulasi setiap value colomn\n",
      "C:\\Users\\jmd\\AppData\\Local\\Temp\\ipykernel_38304\\3580721974.py:19: SettingWithCopyWarning: \n",
      "A value is trying to be set on a copy of a slice from a DataFrame.\n",
      "Try using .loc[row_indexer,col_indexer] = value instead\n",
      "\n",
      "See the caveats in the documentation: https://pandas.pydata.org/pandas-docs/stable/user_guide/indexing.html#returning-a-view-versus-a-copy\n",
      "  productId['sentiment_score'] = productId.apply(lambda x: calculateSentiment(x['reviews.title'], x['reviews.text']), axis=1)#kalkulasi setiap value colomn\n",
      "C:\\Users\\jmd\\AppData\\Local\\Temp\\ipykernel_38304\\3580721974.py:19: SettingWithCopyWarning: \n",
      "A value is trying to be set on a copy of a slice from a DataFrame.\n",
      "Try using .loc[row_indexer,col_indexer] = value instead\n",
      "\n",
      "See the caveats in the documentation: https://pandas.pydata.org/pandas-docs/stable/user_guide/indexing.html#returning-a-view-versus-a-copy\n",
      "  productId['sentiment_score'] = productId.apply(lambda x: calculateSentiment(x['reviews.title'], x['reviews.text']), axis=1)#kalkulasi setiap value colomn\n",
      "C:\\Users\\jmd\\AppData\\Local\\Temp\\ipykernel_38304\\3580721974.py:19: SettingWithCopyWarning: \n",
      "A value is trying to be set on a copy of a slice from a DataFrame.\n",
      "Try using .loc[row_indexer,col_indexer] = value instead\n",
      "\n",
      "See the caveats in the documentation: https://pandas.pydata.org/pandas-docs/stable/user_guide/indexing.html#returning-a-view-versus-a-copy\n",
      "  productId['sentiment_score'] = productId.apply(lambda x: calculateSentiment(x['reviews.title'], x['reviews.text']), axis=1)#kalkulasi setiap value colomn\n",
      "C:\\Users\\jmd\\AppData\\Local\\Temp\\ipykernel_38304\\3580721974.py:19: SettingWithCopyWarning: \n",
      "A value is trying to be set on a copy of a slice from a DataFrame.\n",
      "Try using .loc[row_indexer,col_indexer] = value instead\n",
      "\n",
      "See the caveats in the documentation: https://pandas.pydata.org/pandas-docs/stable/user_guide/indexing.html#returning-a-view-versus-a-copy\n",
      "  productId['sentiment_score'] = productId.apply(lambda x: calculateSentiment(x['reviews.title'], x['reviews.text']), axis=1)#kalkulasi setiap value colomn\n",
      "C:\\Users\\jmd\\AppData\\Local\\Temp\\ipykernel_38304\\3580721974.py:19: SettingWithCopyWarning: \n",
      "A value is trying to be set on a copy of a slice from a DataFrame.\n",
      "Try using .loc[row_indexer,col_indexer] = value instead\n",
      "\n",
      "See the caveats in the documentation: https://pandas.pydata.org/pandas-docs/stable/user_guide/indexing.html#returning-a-view-versus-a-copy\n",
      "  productId['sentiment_score'] = productId.apply(lambda x: calculateSentiment(x['reviews.title'], x['reviews.text']), axis=1)#kalkulasi setiap value colomn\n",
      "C:\\Users\\jmd\\AppData\\Local\\Temp\\ipykernel_38304\\3580721974.py:19: SettingWithCopyWarning: \n",
      "A value is trying to be set on a copy of a slice from a DataFrame.\n",
      "Try using .loc[row_indexer,col_indexer] = value instead\n",
      "\n",
      "See the caveats in the documentation: https://pandas.pydata.org/pandas-docs/stable/user_guide/indexing.html#returning-a-view-versus-a-copy\n",
      "  productId['sentiment_score'] = productId.apply(lambda x: calculateSentiment(x['reviews.title'], x['reviews.text']), axis=1)#kalkulasi setiap value colomn\n",
      "C:\\Users\\jmd\\AppData\\Local\\Temp\\ipykernel_38304\\3580721974.py:19: SettingWithCopyWarning: \n",
      "A value is trying to be set on a copy of a slice from a DataFrame.\n",
      "Try using .loc[row_indexer,col_indexer] = value instead\n",
      "\n",
      "See the caveats in the documentation: https://pandas.pydata.org/pandas-docs/stable/user_guide/indexing.html#returning-a-view-versus-a-copy\n",
      "  productId['sentiment_score'] = productId.apply(lambda x: calculateSentiment(x['reviews.title'], x['reviews.text']), axis=1)#kalkulasi setiap value colomn\n",
      "C:\\Users\\jmd\\AppData\\Local\\Temp\\ipykernel_38304\\3580721974.py:19: SettingWithCopyWarning: \n",
      "A value is trying to be set on a copy of a slice from a DataFrame.\n",
      "Try using .loc[row_indexer,col_indexer] = value instead\n",
      "\n",
      "See the caveats in the documentation: https://pandas.pydata.org/pandas-docs/stable/user_guide/indexing.html#returning-a-view-versus-a-copy\n",
      "  productId['sentiment_score'] = productId.apply(lambda x: calculateSentiment(x['reviews.title'], x['reviews.text']), axis=1)#kalkulasi setiap value colomn\n",
      "C:\\Users\\jmd\\AppData\\Local\\Temp\\ipykernel_38304\\3580721974.py:19: SettingWithCopyWarning: \n",
      "A value is trying to be set on a copy of a slice from a DataFrame.\n",
      "Try using .loc[row_indexer,col_indexer] = value instead\n",
      "\n",
      "See the caveats in the documentation: https://pandas.pydata.org/pandas-docs/stable/user_guide/indexing.html#returning-a-view-versus-a-copy\n",
      "  productId['sentiment_score'] = productId.apply(lambda x: calculateSentiment(x['reviews.title'], x['reviews.text']), axis=1)#kalkulasi setiap value colomn\n",
      "C:\\Users\\jmd\\AppData\\Local\\Temp\\ipykernel_38304\\3580721974.py:19: SettingWithCopyWarning: \n",
      "A value is trying to be set on a copy of a slice from a DataFrame.\n",
      "Try using .loc[row_indexer,col_indexer] = value instead\n",
      "\n",
      "See the caveats in the documentation: https://pandas.pydata.org/pandas-docs/stable/user_guide/indexing.html#returning-a-view-versus-a-copy\n",
      "  productId['sentiment_score'] = productId.apply(lambda x: calculateSentiment(x['reviews.title'], x['reviews.text']), axis=1)#kalkulasi setiap value colomn\n",
      "C:\\Users\\jmd\\AppData\\Local\\Temp\\ipykernel_38304\\3580721974.py:19: SettingWithCopyWarning: \n",
      "A value is trying to be set on a copy of a slice from a DataFrame.\n",
      "Try using .loc[row_indexer,col_indexer] = value instead\n",
      "\n",
      "See the caveats in the documentation: https://pandas.pydata.org/pandas-docs/stable/user_guide/indexing.html#returning-a-view-versus-a-copy\n",
      "  productId['sentiment_score'] = productId.apply(lambda x: calculateSentiment(x['reviews.title'], x['reviews.text']), axis=1)#kalkulasi setiap value colomn\n",
      "C:\\Users\\jmd\\AppData\\Local\\Temp\\ipykernel_38304\\3580721974.py:19: SettingWithCopyWarning: \n",
      "A value is trying to be set on a copy of a slice from a DataFrame.\n",
      "Try using .loc[row_indexer,col_indexer] = value instead\n",
      "\n",
      "See the caveats in the documentation: https://pandas.pydata.org/pandas-docs/stable/user_guide/indexing.html#returning-a-view-versus-a-copy\n",
      "  productId['sentiment_score'] = productId.apply(lambda x: calculateSentiment(x['reviews.title'], x['reviews.text']), axis=1)#kalkulasi setiap value colomn\n",
      "C:\\Users\\jmd\\AppData\\Local\\Temp\\ipykernel_38304\\3580721974.py:19: SettingWithCopyWarning: \n",
      "A value is trying to be set on a copy of a slice from a DataFrame.\n",
      "Try using .loc[row_indexer,col_indexer] = value instead\n",
      "\n",
      "See the caveats in the documentation: https://pandas.pydata.org/pandas-docs/stable/user_guide/indexing.html#returning-a-view-versus-a-copy\n",
      "  productId['sentiment_score'] = productId.apply(lambda x: calculateSentiment(x['reviews.title'], x['reviews.text']), axis=1)#kalkulasi setiap value colomn\n",
      "C:\\Users\\jmd\\AppData\\Local\\Temp\\ipykernel_38304\\3580721974.py:19: SettingWithCopyWarning: \n",
      "A value is trying to be set on a copy of a slice from a DataFrame.\n",
      "Try using .loc[row_indexer,col_indexer] = value instead\n",
      "\n",
      "See the caveats in the documentation: https://pandas.pydata.org/pandas-docs/stable/user_guide/indexing.html#returning-a-view-versus-a-copy\n",
      "  productId['sentiment_score'] = productId.apply(lambda x: calculateSentiment(x['reviews.title'], x['reviews.text']), axis=1)#kalkulasi setiap value colomn\n",
      "C:\\Users\\jmd\\AppData\\Local\\Temp\\ipykernel_38304\\3580721974.py:19: SettingWithCopyWarning: \n",
      "A value is trying to be set on a copy of a slice from a DataFrame.\n",
      "Try using .loc[row_indexer,col_indexer] = value instead\n",
      "\n",
      "See the caveats in the documentation: https://pandas.pydata.org/pandas-docs/stable/user_guide/indexing.html#returning-a-view-versus-a-copy\n",
      "  productId['sentiment_score'] = productId.apply(lambda x: calculateSentiment(x['reviews.title'], x['reviews.text']), axis=1)#kalkulasi setiap value colomn\n",
      "C:\\Users\\jmd\\AppData\\Local\\Temp\\ipykernel_38304\\3580721974.py:19: SettingWithCopyWarning: \n",
      "A value is trying to be set on a copy of a slice from a DataFrame.\n",
      "Try using .loc[row_indexer,col_indexer] = value instead\n",
      "\n",
      "See the caveats in the documentation: https://pandas.pydata.org/pandas-docs/stable/user_guide/indexing.html#returning-a-view-versus-a-copy\n",
      "  productId['sentiment_score'] = productId.apply(lambda x: calculateSentiment(x['reviews.title'], x['reviews.text']), axis=1)#kalkulasi setiap value colomn\n",
      "C:\\Users\\jmd\\AppData\\Local\\Temp\\ipykernel_38304\\3580721974.py:19: SettingWithCopyWarning: \n",
      "A value is trying to be set on a copy of a slice from a DataFrame.\n",
      "Try using .loc[row_indexer,col_indexer] = value instead\n",
      "\n",
      "See the caveats in the documentation: https://pandas.pydata.org/pandas-docs/stable/user_guide/indexing.html#returning-a-view-versus-a-copy\n",
      "  productId['sentiment_score'] = productId.apply(lambda x: calculateSentiment(x['reviews.title'], x['reviews.text']), axis=1)#kalkulasi setiap value colomn\n",
      "C:\\Users\\jmd\\AppData\\Local\\Temp\\ipykernel_38304\\3580721974.py:19: SettingWithCopyWarning: \n",
      "A value is trying to be set on a copy of a slice from a DataFrame.\n",
      "Try using .loc[row_indexer,col_indexer] = value instead\n",
      "\n",
      "See the caveats in the documentation: https://pandas.pydata.org/pandas-docs/stable/user_guide/indexing.html#returning-a-view-versus-a-copy\n",
      "  productId['sentiment_score'] = productId.apply(lambda x: calculateSentiment(x['reviews.title'], x['reviews.text']), axis=1)#kalkulasi setiap value colomn\n",
      "C:\\Users\\jmd\\AppData\\Local\\Temp\\ipykernel_38304\\3580721974.py:19: SettingWithCopyWarning: \n",
      "A value is trying to be set on a copy of a slice from a DataFrame.\n",
      "Try using .loc[row_indexer,col_indexer] = value instead\n",
      "\n",
      "See the caveats in the documentation: https://pandas.pydata.org/pandas-docs/stable/user_guide/indexing.html#returning-a-view-versus-a-copy\n",
      "  productId['sentiment_score'] = productId.apply(lambda x: calculateSentiment(x['reviews.title'], x['reviews.text']), axis=1)#kalkulasi setiap value colomn\n",
      "C:\\Users\\jmd\\AppData\\Local\\Temp\\ipykernel_38304\\3580721974.py:19: SettingWithCopyWarning: \n",
      "A value is trying to be set on a copy of a slice from a DataFrame.\n",
      "Try using .loc[row_indexer,col_indexer] = value instead\n",
      "\n",
      "See the caveats in the documentation: https://pandas.pydata.org/pandas-docs/stable/user_guide/indexing.html#returning-a-view-versus-a-copy\n",
      "  productId['sentiment_score'] = productId.apply(lambda x: calculateSentiment(x['reviews.title'], x['reviews.text']), axis=1)#kalkulasi setiap value colomn\n",
      "C:\\Users\\jmd\\AppData\\Local\\Temp\\ipykernel_38304\\3580721974.py:19: SettingWithCopyWarning: \n",
      "A value is trying to be set on a copy of a slice from a DataFrame.\n",
      "Try using .loc[row_indexer,col_indexer] = value instead\n",
      "\n",
      "See the caveats in the documentation: https://pandas.pydata.org/pandas-docs/stable/user_guide/indexing.html#returning-a-view-versus-a-copy\n",
      "  productId['sentiment_score'] = productId.apply(lambda x: calculateSentiment(x['reviews.title'], x['reviews.text']), axis=1)#kalkulasi setiap value colomn\n",
      "C:\\Users\\jmd\\AppData\\Local\\Temp\\ipykernel_38304\\3580721974.py:19: SettingWithCopyWarning: \n",
      "A value is trying to be set on a copy of a slice from a DataFrame.\n",
      "Try using .loc[row_indexer,col_indexer] = value instead\n",
      "\n",
      "See the caveats in the documentation: https://pandas.pydata.org/pandas-docs/stable/user_guide/indexing.html#returning-a-view-versus-a-copy\n",
      "  productId['sentiment_score'] = productId.apply(lambda x: calculateSentiment(x['reviews.title'], x['reviews.text']), axis=1)#kalkulasi setiap value colomn\n"
     ]
    }
   ],
   "source": [
    "from textblob import TextBlob #menghitung sentimen polarisasinya\n",
    "\n",
    "def calculateSentiment(Summary, context): #fungsi untuk menggabungkan title dan article textnya\n",
    "  allText = ' '.join(Summary) + ' ' + ' '.join(context) #contex itu akan diisi beberapa artikel text\n",
    "  analysis = TextBlob(allText)\n",
    "  return analysis.sentiment.polarity #untuk menghitung sentimen scorenya dari data yg sudah gabungan(Cmpound)\n",
    "\n",
    "def getTextByTag(data, id):\n",
    "  return dataFileGrouped[dataFileGrouped['id'].apply(lambda x: id in x)]\n",
    "\n",
    "result_sentiment = {}\n",
    "\n",
    "ids = list(df_new['id'].unique())\n",
    "\n",
    "# ids = ['AVpfl8cLLJeJML43AE3S', 'AVqkIhwDv8e3D1O-lebb', 'AVpe9CMS1cnluZ0-aoC5'] #apa saja yg mau diambil unt konten beritanya\n",
    "\n",
    "for id in ids: #looping\n",
    "  productId = getTextByTag(dataFileGrouped, id)\n",
    "  productId['sentiment_score'] = productId.apply(lambda x: calculateSentiment(x['reviews.title'], x['reviews.text']), axis=1)#kalkulasi setiap value colomn\n",
    "  productIdCompound = productId['sentiment_score'].mean() #diambil rata2nya krn nilai compund blm dirata2\n",
    "\n",
    "  result_sentiment[id] = productIdCompound\n",
    "\n",
    "# result_sentiment"
   ]
  },
  {
   "cell_type": "code",
   "execution_count": 11,
   "metadata": {},
   "outputs": [
    {
     "data": {
      "text/html": [
       "<div>\n",
       "<style scoped>\n",
       "    .dataframe tbody tr th:only-of-type {\n",
       "        vertical-align: middle;\n",
       "    }\n",
       "\n",
       "    .dataframe tbody tr th {\n",
       "        vertical-align: top;\n",
       "    }\n",
       "\n",
       "    .dataframe thead th {\n",
       "        text-align: right;\n",
       "    }\n",
       "</style>\n",
       "<table border=\"1\" class=\"dataframe\">\n",
       "  <thead>\n",
       "    <tr style=\"text-align: right;\">\n",
       "      <th></th>\n",
       "      <th>name</th>\n",
       "    </tr>\n",
       "  </thead>\n",
       "  <tbody>\n",
       "    <tr>\n",
       "      <th>14718</th>\n",
       "      <td>brand new amazon kindle fire   ips display tab...</td>\n",
       "    </tr>\n",
       "  </tbody>\n",
       "</table>\n",
       "</div>"
      ],
      "text/plain": [
       "                                                    name\n",
       "14718  brand new amazon kindle fire   ips display tab..."
      ]
     },
     "execution_count": 11,
     "metadata": {},
     "output_type": "execute_result"
    }
   ],
   "source": [
    "best_sentiment = max(result_sentiment, key=result_sentiment.get)\n",
    "result = df_new.loc[df_new['id'] == best_sentiment,['name']].drop_duplicates()\n",
    "result"
   ]
  },
  {
   "cell_type": "code",
   "execution_count": 12,
   "metadata": {},
   "outputs": [
    {
     "data": {
      "text/plain": [
       "'AVqkIhxunnc1JgDc3kg_'"
      ]
     },
     "execution_count": 12,
     "metadata": {},
     "output_type": "execute_result"
    }
   ],
   "source": [
    "best_sentiment"
   ]
  },
  {
   "cell_type": "code",
   "execution_count": 13,
   "metadata": {},
   "outputs": [
    {
     "name": "stdout",
     "output_type": "stream",
     "text": [
      "Product dengan sentimen terbaik adalah  brand new amazon kindle fire   ips display tablet wifi  gb blue   \n"
     ]
    }
   ],
   "source": [
    "print(\"Product dengan sentimen terbaik adalah \", result.values[0][0])"
   ]
  }
 ],
 "metadata": {
  "kernelspec": {
   "display_name": "Python 3",
   "language": "python",
   "name": "python3"
  },
  "language_info": {
   "codemirror_mode": {
    "name": "ipython",
    "version": 3
   },
   "file_extension": ".py",
   "mimetype": "text/x-python",
   "name": "python",
   "nbconvert_exporter": "python",
   "pygments_lexer": "ipython3",
   "version": "3.12.2"
  }
 },
 "nbformat": 4,
 "nbformat_minor": 2
}
