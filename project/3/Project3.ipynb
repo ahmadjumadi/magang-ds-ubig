{
 "cells": [
  {
   "cell_type": "markdown",
   "metadata": {},
   "source": [
    "# Sentimen Analisis untuk Pemilu (Pilpres) untuk Memilih Paslon Mana"
   ]
  },
  {
   "cell_type": "code",
   "execution_count": 1,
   "metadata": {},
   "outputs": [
    {
     "name": "stdout",
     "output_type": "stream",
     "text": [
      "Rows : 19813\n",
      "Columns : 7\n",
      "Unique Columns : ['title', 'author', 'publish_date', 'article_text', 'url', 'main_image', 'tag']\n",
      "Missing Values : 1880\n"
     ]
    }
   ],
   "source": [
    "import pandas as pd\n",
    "\n",
    "dataFile = pd.read_csv(\"Project3-news-data.csv\", encoding=\"utf-8\")\n",
    "\n",
    "print('Rows :', dataFile.shape[0])\n",
    "print('Columns :', dataFile.shape[1])\n",
    "print('Unique Columns :', dataFile.columns.tolist())\n",
    "print('Missing Values :', dataFile.isnull().sum().values.sum())"
   ]
  },
  {
   "cell_type": "code",
   "execution_count": 2,
   "metadata": {},
   "outputs": [
    {
     "data": {
      "text/plain": [
       "title           0\n",
       "author          0\n",
       "publish_date    0\n",
       "article_text    0\n",
       "url             0\n",
       "main_image      0\n",
       "tag             0\n",
       "dtype: int64"
      ]
     },
     "execution_count": 2,
     "metadata": {},
     "output_type": "execute_result"
    }
   ],
   "source": [
    "dataFile.dropna(inplace=True)\n",
    "dataFile.isnull().sum()"
   ]
  },
  {
   "cell_type": "code",
   "execution_count": 3,
   "metadata": {},
   "outputs": [
    {
     "data": {
      "text/html": [
       "<div>\n",
       "<style scoped>\n",
       "    .dataframe tbody tr th:only-of-type {\n",
       "        vertical-align: middle;\n",
       "    }\n",
       "\n",
       "    .dataframe tbody tr th {\n",
       "        vertical-align: top;\n",
       "    }\n",
       "\n",
       "    .dataframe thead th {\n",
       "        text-align: right;\n",
       "    }\n",
       "</style>\n",
       "<table border=\"1\" class=\"dataframe\">\n",
       "  <thead>\n",
       "    <tr style=\"text-align: right;\">\n",
       "      <th></th>\n",
       "      <th>title</th>\n",
       "      <th>author</th>\n",
       "      <th>publish_date</th>\n",
       "      <th>article_text</th>\n",
       "      <th>url</th>\n",
       "      <th>main_image</th>\n",
       "      <th>tag</th>\n",
       "    </tr>\n",
       "  </thead>\n",
       "  <tbody>\n",
       "    <tr>\n",
       "      <th>0</th>\n",
       "      <td>Hasto Ingin Debat Pilpres Pertarungan Gagasan ...</td>\n",
       "      <td>detikNews</td>\n",
       "      <td>2023-12-10 23:31:00+07:00</td>\n",
       "      <td>Sekjen PDIP sekaligus Sekretaris Tim Pemenang ...</td>\n",
       "      <td>https://news.detik.com/pemilu/d-7082492/hasto-...</td>\n",
       "      <td>https://awsimages.detik.net.id/community/media...</td>\n",
       "      <td>['hasto kristiyanto', 'hasto', 'sekjen pdip', ...</td>\n",
       "    </tr>\n",
       "    <tr>\n",
       "      <th>2</th>\n",
       "      <td>Contoh Format dan Isi Surat Pernyataan Anggota...</td>\n",
       "      <td>detikNews</td>\n",
       "      <td>2023-12-10 22:38:00+07:00</td>\n",
       "      <td>Surat pernyataan KPPS Pemilu 2024 merupakan ba...</td>\n",
       "      <td>https://news.detik.com/pemilu/d-7082424/contoh...</td>\n",
       "      <td>https://awsimages.detik.net.id/community/media...</td>\n",
       "      <td>['surat pernyataan kpps pemilu 2024', 'pendaft...</td>\n",
       "    </tr>\n",
       "    <tr>\n",
       "      <th>3</th>\n",
       "      <td>9 Ribu Personel Gabungan Dikerahkan Amankan Na...</td>\n",
       "      <td>detikSumut</td>\n",
       "      <td>2023-12-10 22:23:00+07:00</td>\n",
       "      <td>Sekitar 9.000 personel dikerahkan untuk mengam...</td>\n",
       "      <td>https://www.detik.com/sumut/berita/d-7082448/9...</td>\n",
       "      <td>https://awsimages.detik.net.id/community/media...</td>\n",
       "      <td>['natal', 'tahun baru', 'nataru', 'pengamanan ...</td>\n",
       "    </tr>\n",
       "    <tr>\n",
       "      <th>4</th>\n",
       "      <td>Amarah Ukraina Usai Rusia Bakal Gelar Pilpres ...</td>\n",
       "      <td>detikNews</td>\n",
       "      <td>2023-12-10 22:12:00+07:00</td>\n",
       "      <td>Ukraina marah usai Rusia menjadikan empat wila...</td>\n",
       "      <td>https://news.detik.com/internasional/d-7082454...</td>\n",
       "      <td>https://awsimages.detik.net.id/community/media...</td>\n",
       "      <td>['ukraina', 'rusia', 'pemilu rusia', 'round-up']</td>\n",
       "    </tr>\n",
       "    <tr>\n",
       "      <th>5</th>\n",
       "      <td>TKN Prabowo-Gibran Buka Pintu untuk Eks KSAD D...</td>\n",
       "      <td>detikNews</td>\n",
       "      <td>2023-12-10 21:59:00+07:00</td>\n",
       "      <td>Sekretaris Tim Kampanye Nasional (TKN) Prabowo...</td>\n",
       "      <td>https://news.detik.com/pemilu/d-7082445/tkn-pr...</td>\n",
       "      <td>https://awsimages.detik.net.id/community/media...</td>\n",
       "      <td>['tkn', 'prabowo-gibran', 'dudung abdurachman']</td>\n",
       "    </tr>\n",
       "  </tbody>\n",
       "</table>\n",
       "</div>"
      ],
      "text/plain": [
       "                                               title      author  \\\n",
       "0  Hasto Ingin Debat Pilpres Pertarungan Gagasan ...   detikNews   \n",
       "2  Contoh Format dan Isi Surat Pernyataan Anggota...   detikNews   \n",
       "3  9 Ribu Personel Gabungan Dikerahkan Amankan Na...  detikSumut   \n",
       "4  Amarah Ukraina Usai Rusia Bakal Gelar Pilpres ...   detikNews   \n",
       "5  TKN Prabowo-Gibran Buka Pintu untuk Eks KSAD D...   detikNews   \n",
       "\n",
       "                publish_date  \\\n",
       "0  2023-12-10 23:31:00+07:00   \n",
       "2  2023-12-10 22:38:00+07:00   \n",
       "3  2023-12-10 22:23:00+07:00   \n",
       "4  2023-12-10 22:12:00+07:00   \n",
       "5  2023-12-10 21:59:00+07:00   \n",
       "\n",
       "                                        article_text  \\\n",
       "0  Sekjen PDIP sekaligus Sekretaris Tim Pemenang ...   \n",
       "2  Surat pernyataan KPPS Pemilu 2024 merupakan ba...   \n",
       "3  Sekitar 9.000 personel dikerahkan untuk mengam...   \n",
       "4  Ukraina marah usai Rusia menjadikan empat wila...   \n",
       "5  Sekretaris Tim Kampanye Nasional (TKN) Prabowo...   \n",
       "\n",
       "                                                 url  \\\n",
       "0  https://news.detik.com/pemilu/d-7082492/hasto-...   \n",
       "2  https://news.detik.com/pemilu/d-7082424/contoh...   \n",
       "3  https://www.detik.com/sumut/berita/d-7082448/9...   \n",
       "4  https://news.detik.com/internasional/d-7082454...   \n",
       "5  https://news.detik.com/pemilu/d-7082445/tkn-pr...   \n",
       "\n",
       "                                          main_image  \\\n",
       "0  https://awsimages.detik.net.id/community/media...   \n",
       "2  https://awsimages.detik.net.id/community/media...   \n",
       "3  https://awsimages.detik.net.id/community/media...   \n",
       "4  https://awsimages.detik.net.id/community/media...   \n",
       "5  https://awsimages.detik.net.id/community/media...   \n",
       "\n",
       "                                                 tag  \n",
       "0  ['hasto kristiyanto', 'hasto', 'sekjen pdip', ...  \n",
       "2  ['surat pernyataan kpps pemilu 2024', 'pendaft...  \n",
       "3  ['natal', 'tahun baru', 'nataru', 'pengamanan ...  \n",
       "4   ['ukraina', 'rusia', 'pemilu rusia', 'round-up']  \n",
       "5    ['tkn', 'prabowo-gibran', 'dudung abdurachman']  "
      ]
     },
     "execution_count": 3,
     "metadata": {},
     "output_type": "execute_result"
    }
   ],
   "source": [
    "dataFile.head()"
   ]
  },
  {
   "cell_type": "markdown",
   "metadata": {},
   "source": [
    "## Pengemlompokan dengan TAg"
   ]
  },
  {
   "cell_type": "code",
   "execution_count": 4,
   "metadata": {},
   "outputs": [],
   "source": [
    "dataFile['tag'] = dataFile['tag'].apply(lambda x: eval(x))"
   ]
  },
  {
   "cell_type": "code",
   "execution_count": 5,
   "metadata": {},
   "outputs": [],
   "source": [
    "dataFileExploded = dataFile.explode('tag')"
   ]
  },
  {
   "cell_type": "code",
   "execution_count": 6,
   "metadata": {},
   "outputs": [],
   "source": [
    "dataFileGroup = dataFileExploded.groupby('tag')[['title','article_text']].agg(list)\n",
    "dataFileGroup.head()\n",
    "dataFileGroup = dataFileGroup.reset_index()"
   ]
  },
  {
   "cell_type": "code",
   "execution_count": 7,
   "metadata": {},
   "outputs": [
    {
     "name": "stdout",
     "output_type": "stream",
     "text": [
      "Requirement already satisfied: textBlob in c:\\users\\jmd\\appdata\\local\\programs\\python\\python312\\lib\\site-packages (0.18.0.post0)\n",
      "Requirement already satisfied: nltk>=3.8 in c:\\users\\jmd\\appdata\\local\\programs\\python\\python312\\lib\\site-packages (from textBlob) (3.8.1)\n",
      "Requirement already satisfied: click in c:\\users\\jmd\\appdata\\local\\programs\\python\\python312\\lib\\site-packages (from nltk>=3.8->textBlob) (8.1.7)\n",
      "Requirement already satisfied: joblib in c:\\users\\jmd\\appdata\\local\\programs\\python\\python312\\lib\\site-packages (from nltk>=3.8->textBlob) (1.3.2)\n",
      "Requirement already satisfied: regex>=2021.8.3 in c:\\users\\jmd\\appdata\\local\\programs\\python\\python312\\lib\\site-packages (from nltk>=3.8->textBlob) (2023.12.25)\n",
      "Requirement already satisfied: tqdm in c:\\users\\jmd\\appdata\\local\\programs\\python\\python312\\lib\\site-packages (from nltk>=3.8->textBlob) (4.66.2)\n",
      "Requirement already satisfied: colorama in c:\\users\\jmd\\appdata\\local\\programs\\python\\python312\\lib\\site-packages (from click->nltk>=3.8->textBlob) (0.4.6)\n"
     ]
    }
   ],
   "source": [
    "!pip install textBlob"
   ]
  },
  {
   "cell_type": "code",
   "execution_count": 8,
   "metadata": {},
   "outputs": [
    {
     "name": "stderr",
     "output_type": "stream",
     "text": [
      "C:\\Users\\jmd\\AppData\\Local\\Temp\\ipykernel_14708\\3384419118.py:18: SettingWithCopyWarning: \n",
      "A value is trying to be set on a copy of a slice from a DataFrame.\n",
      "Try using .loc[row_indexer,col_indexer] = value instead\n",
      "\n",
      "See the caveats in the documentation: https://pandas.pydata.org/pandas-docs/stable/user_guide/indexing.html#returning-a-view-versus-a-copy\n",
      "  newsTag['sentiment_score'] = newsTag.apply(lambda x: calculateSentiment(x['title'], x['article_text']), axis=1)\n",
      "C:\\Users\\jmd\\AppData\\Local\\Temp\\ipykernel_14708\\3384419118.py:18: SettingWithCopyWarning: \n",
      "A value is trying to be set on a copy of a slice from a DataFrame.\n",
      "Try using .loc[row_indexer,col_indexer] = value instead\n",
      "\n",
      "See the caveats in the documentation: https://pandas.pydata.org/pandas-docs/stable/user_guide/indexing.html#returning-a-view-versus-a-copy\n",
      "  newsTag['sentiment_score'] = newsTag.apply(lambda x: calculateSentiment(x['title'], x['article_text']), axis=1)\n",
      "C:\\Users\\jmd\\AppData\\Local\\Temp\\ipykernel_14708\\3384419118.py:18: SettingWithCopyWarning: \n",
      "A value is trying to be set on a copy of a slice from a DataFrame.\n",
      "Try using .loc[row_indexer,col_indexer] = value instead\n",
      "\n",
      "See the caveats in the documentation: https://pandas.pydata.org/pandas-docs/stable/user_guide/indexing.html#returning-a-view-versus-a-copy\n",
      "  newsTag['sentiment_score'] = newsTag.apply(lambda x: calculateSentiment(x['title'], x['article_text']), axis=1)\n"
     ]
    }
   ],
   "source": [
    "from textblob import TextBlob\n",
    "\n",
    "def calculateSentiment(title, context):\n",
    "  allText = ' '.join(title) + ' ' + ' '.join(context)\n",
    "  analysis = TextBlob(allText)\n",
    "  # Text Blob menghitung sentimen analisisnya\n",
    "  return analysis.sentiment.polarity\n",
    "\n",
    "def getTextByTag(data, tag):\n",
    "  return dataFileGroup[dataFileGroup['tag'].apply(lambda x: tag in x)]\n",
    "\n",
    "result_sentiment = {}\n",
    "\n",
    "tags = ['anies baswedan', 'prabowo subianto', 'ganjar pranowo']\n",
    "\n",
    "for tag in tags:\n",
    "  newsTag = getTextByTag(dataFileGroup, tag)\n",
    "  newsTag['sentiment_score'] = newsTag.apply(lambda x: calculateSentiment(x['title'], x['article_text']), axis=1)\n",
    "  newsTagCompound = newsTag['sentiment_score'].mean()\n",
    "\n",
    "  result_sentiment[tag] = newsTagCompound\n",
    "\n",
    "result_sentiment\n",
    "\n",
    "best_sentiment = max(result_sentiment, key=result_sentiment.get)"
   ]
  },
  {
   "cell_type": "code",
   "execution_count": 9,
   "metadata": {},
   "outputs": [
    {
     "data": {
      "text/plain": [
       "{'anies baswedan': 0.03324814875728881,\n",
       " 'prabowo subianto': -0.0006860469524301141,\n",
       " 'ganjar pranowo': 0.034375715798398286}"
      ]
     },
     "execution_count": 9,
     "metadata": {},
     "output_type": "execute_result"
    }
   ],
   "source": [
    "result_sentiment"
   ]
  },
  {
   "cell_type": "code",
   "execution_count": 10,
   "metadata": {},
   "outputs": [
    {
     "name": "stdout",
     "output_type": "stream",
     "text": [
      "Sentiment analisis terbaik adalah :  ganjar pranowo\n"
     ]
    }
   ],
   "source": [
    "print(\"Sentiment analisis terbaik adalah : \", best_sentiment)"
   ]
  }
 ],
 "metadata": {
  "kernelspec": {
   "display_name": "Python 3",
   "language": "python",
   "name": "python3"
  },
  "language_info": {
   "codemirror_mode": {
    "name": "ipython",
    "version": 3
   },
   "file_extension": ".py",
   "mimetype": "text/x-python",
   "name": "python",
   "nbconvert_exporter": "python",
   "pygments_lexer": "ipython3",
   "version": "3.12.2"
  }
 },
 "nbformat": 4,
 "nbformat_minor": 2
}
